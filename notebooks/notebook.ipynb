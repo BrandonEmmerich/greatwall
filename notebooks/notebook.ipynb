{
 "cells": [
  {
   "cell_type": "code",
   "execution_count": 65,
   "metadata": {},
   "outputs": [],
   "source": [
    "import pandas as pd\n",
    "\n",
    "df = pd.read_csv('~/development/greatwall/data/data_clean.csv')\n",
    "annual_aggregates = df.groupby(['year'])['price_clean'].agg(['mean', 'sum', 'count'])\n",
    "annual_aggregates.reset_index(level=0, inplace=True)"
   ]
  },
  {
   "cell_type": "code",
   "execution_count": 47,
   "metadata": {},
   "outputs": [
    {
     "data": {
      "text/plain": [
       "Text(0.5,1,'Annual Volume of NPL Disposal Auctions')"
      ]
     },
     "execution_count": 47,
     "metadata": {},
     "output_type": "execute_result"
    },
    {
     "data": {
      "image/png": "[encoded data removed]",
      "text/plain": [
       "<Figure size 432x288 with 1 Axes>"
      ]
     },
     "metadata": {},
     "output_type": "display_data"
    }
   ],
   "source": [
    "import matplotlib.pyplot as plt\n",
    "import seaborn as sns\n",
    "import matplotlib.style as style\n",
    "\n",
    "sns.set()\n",
    "sns.set_style('white')\n",
    "plt.bar(annual_aggregates['year'],annual_aggregates['sum'])\n",
    "sns.despine()\n",
    "plt.xlabel('Year')\n",
    "plt.ylabel('Volume \\n (Billion Yuan)') # this isn't right, needs right units\n",
    "plt.title('Annual Volume of NPL Disposal Auctions')\n",
    "\n"
   ]
  },
  {
   "cell_type": "code",
   "execution_count": 63,
   "metadata": {},
   "outputs": [
    {
     "data": {
      "text/html": [
       "<div>\n",
       "<style scoped>\n",
       "    .dataframe tbody tr th:only-of-type {\n",
       "        vertical-align: middle;\n",
       "    }\n",
       "\n",
       "    .dataframe tbody tr th {\n",
       "        vertical-align: top;\n",
       "    }\n",
       "\n",
       "    .dataframe thead th {\n",
       "        text-align: right;\n",
       "    }\n",
       "</style>\n",
       "<table border=\"1\" class=\"dataframe\">\n",
       "  <thead>\n",
       "    <tr style=\"text-align: right;\">\n",
       "      <th></th>\n",
       "      <th>region</th>\n",
       "      <th>sum</th>\n",
       "      <th>total</th>\n",
       "      <th>share_of_total</th>\n",
       "    </tr>\n",
       "  </thead>\n",
       "  <tbody>\n",
       "    <tr>\n",
       "      <th>0</th>\n",
       "      <td>Autonomous West</td>\n",
       "      <td>6.682391e+10</td>\n",
       "      <td>7.039425e+11</td>\n",
       "      <td>0.094928</td>\n",
       "    </tr>\n",
       "    <tr>\n",
       "      <th>1</th>\n",
       "      <td>Populous Middle</td>\n",
       "      <td>5.183170e+10</td>\n",
       "      <td>7.039425e+11</td>\n",
       "      <td>0.073631</td>\n",
       "    </tr>\n",
       "    <tr>\n",
       "      <th>2</th>\n",
       "      <td>Prosperous Coast</td>\n",
       "      <td>3.350865e+11</td>\n",
       "      <td>7.039425e+11</td>\n",
       "      <td>0.476014</td>\n",
       "    </tr>\n",
       "    <tr>\n",
       "      <th>3</th>\n",
       "      <td>Rust Belt</td>\n",
       "      <td>2.502004e+11</td>\n",
       "      <td>7.039425e+11</td>\n",
       "      <td>0.355427</td>\n",
       "    </tr>\n",
       "  </tbody>\n",
       "</table>\n",
       "</div>"
      ],
      "text/plain": [
       "             region           sum         total  share_of_total\n",
       "0   Autonomous West  6.682391e+10  7.039425e+11        0.094928\n",
       "1   Populous Middle  5.183170e+10  7.039425e+11        0.073631\n",
       "2  Prosperous Coast  3.350865e+11  7.039425e+11        0.476014\n",
       "3         Rust Belt  2.502004e+11  7.039425e+11        0.355427"
      ]
     },
     "execution_count": 63,
     "metadata": {},
     "output_type": "execute_result"
    }
   ],
   "source": [
    "# Volume by Region\n",
    "\n",
    "df_regions = df.groupby(['region'])['price_clean'].agg(['sum'])\n",
    "df_regions = df_regions.reset_index()\n",
    "df_regions['total'] = df_regions['sum'].sum()\n",
    "df_regions['share_of_total'] = df_regions['sum']/df_regions['total']\n",
    "df_regions"
   ]
  },
  {
   "cell_type": "code",
   "execution_count": 9,
   "metadata": {},
   "outputs": [
    {
     "data": {
      "text/html": [
       "<div>\n",
       "<style scoped>\n",
       "    .dataframe tbody tr th:only-of-type {\n",
       "        vertical-align: middle;\n",
       "    }\n",
       "\n",
       "    .dataframe tbody tr th {\n",
       "        vertical-align: top;\n",
       "    }\n",
       "\n",
       "    .dataframe thead th {\n",
       "        text-align: right;\n",
       "    }\n",
       "</style>\n",
       "<table border=\"1\" class=\"dataframe\">\n",
       "  <thead>\n",
       "    <tr style=\"text-align: right;\">\n",
       "      <th></th>\n",
       "      <th>mean</th>\n",
       "      <th>sum</th>\n",
       "      <th>count</th>\n",
       "    </tr>\n",
       "    <tr>\n",
       "      <th>year</th>\n",
       "      <th></th>\n",
       "      <th></th>\n",
       "      <th></th>\n",
       "    </tr>\n",
       "  </thead>\n",
       "  <tbody>\n",
       "    <tr>\n",
       "      <th>2014</th>\n",
       "      <td>9.143122e+07</td>\n",
       "      <td>1.508615e+10</td>\n",
       "      <td>165</td>\n",
       "    </tr>\n",
       "    <tr>\n",
       "      <th>2015</th>\n",
       "      <td>1.441281e+08</td>\n",
       "      <td>4.900356e+10</td>\n",
       "      <td>340</td>\n",
       "    </tr>\n",
       "    <tr>\n",
       "      <th>2016</th>\n",
       "      <td>1.725841e+08</td>\n",
       "      <td>4.504445e+10</td>\n",
       "      <td>261</td>\n",
       "    </tr>\n",
       "    <tr>\n",
       "      <th>2017</th>\n",
       "      <td>2.527477e+08</td>\n",
       "      <td>1.584728e+11</td>\n",
       "      <td>627</td>\n",
       "    </tr>\n",
       "    <tr>\n",
       "      <th>2018</th>\n",
       "      <td>3.118749e+08</td>\n",
       "      <td>2.635343e+11</td>\n",
       "      <td>845</td>\n",
       "    </tr>\n",
       "  </tbody>\n",
       "</table>\n",
       "</div>"
      ],
      "text/plain": [
       "              mean           sum  count\n",
       "year                                   \n",
       "2014  9.143122e+07  1.508615e+10    165\n",
       "2015  1.441281e+08  4.900356e+10    340\n",
       "2016  1.725841e+08  4.504445e+10    261\n",
       "2017  2.527477e+08  1.584728e+11    627\n",
       "2018  3.118749e+08  2.635343e+11    845"
      ]
     },
     "execution_count": 9,
     "metadata": {},
     "output_type": "execute_result"
    }
   ],
   "source": [
    "# Get total price per year\n",
    "\n",
    "df.groupby(['year'])['price_clean'].agg(['mean', 'sum', 'count']).tail()"
   ]
  },
  {
   "cell_type": "code",
   "execution_count": 11,
   "metadata": {
    "scrolled": false
   },
   "outputs": [
    {
     "data": {
      "text/html": [
       "<div>\n",
       "<style scoped>\n",
       "    .dataframe tbody tr th:only-of-type {\n",
       "        vertical-align: middle;\n",
       "    }\n",
       "\n",
       "    .dataframe tbody tr th {\n",
       "        vertical-align: top;\n",
       "    }\n",
       "\n",
       "    .dataframe thead th {\n",
       "        text-align: right;\n",
       "    }\n",
       "</style>\n",
       "<table border=\"1\" class=\"dataframe\">\n",
       "  <thead>\n",
       "    <tr style=\"text-align: right;\">\n",
       "      <th></th>\n",
       "      <th>price_clean</th>\n",
       "    </tr>\n",
       "    <tr>\n",
       "      <th>CityName</th>\n",
       "      <th></th>\n",
       "    </tr>\n",
       "  </thead>\n",
       "  <tbody>\n",
       "    <tr>\n",
       "      <th>北京</th>\n",
       "      <td>1.570759e+11</td>\n",
       "    </tr>\n",
       "    <tr>\n",
       "      <th>广西</th>\n",
       "      <td>1.954609e+10</td>\n",
       "    </tr>\n",
       "    <tr>\n",
       "      <th>云南</th>\n",
       "      <td>1.632147e+10</td>\n",
       "    </tr>\n",
       "    <tr>\n",
       "      <th>辽宁</th>\n",
       "      <td>1.488219e+10</td>\n",
       "    </tr>\n",
       "    <tr>\n",
       "      <th>四川</th>\n",
       "      <td>1.000652e+10</td>\n",
       "    </tr>\n",
       "  </tbody>\n",
       "</table>\n",
       "</div>"
      ],
      "text/plain": [
       "           price_clean\n",
       "CityName              \n",
       "北京        1.570759e+11\n",
       "广西        1.954609e+10\n",
       "云南        1.632147e+10\n",
       "辽宁        1.488219e+10\n",
       "四川        1.000652e+10"
      ]
     },
     "execution_count": 11,
     "metadata": {},
     "output_type": "execute_result"
    }
   ],
   "source": [
    "# Issuance by Province\n",
    "\n",
    "npl_by_city = pd.DataFrame(df[df['year'] == '2018'].groupby(['CityName'])['price_clean'].sum())\n",
    "\n",
    "npl_by_city.sort_values(by = 'price_clean', ascending = False).head()"
   ]
  },
  {
   "cell_type": "code",
   "execution_count": 100,
   "metadata": {},
   "outputs": [
    {
     "data": {
      "text/html": [
       "<div>\n",
       "<style scoped>\n",
       "    .dataframe tbody tr th:only-of-type {\n",
       "        vertical-align: middle;\n",
       "    }\n",
       "\n",
       "    .dataframe tbody tr th {\n",
       "        vertical-align: top;\n",
       "    }\n",
       "\n",
       "    .dataframe thead th {\n",
       "        text-align: right;\n",
       "    }\n",
       "</style>\n",
       "<table border=\"1\" class=\"dataframe\">\n",
       "  <thead>\n",
       "    <tr style=\"text-align: right;\">\n",
       "      <th></th>\n",
       "      <th>price_clean</th>\n",
       "    </tr>\n",
       "    <tr>\n",
       "      <th>TradeName</th>\n",
       "      <th></th>\n",
       "    </tr>\n",
       "  </thead>\n",
       "  <tbody>\n",
       "    <tr>\n",
       "      <th>无</th>\n",
       "      <td>1.704118e+11</td>\n",
       "    </tr>\n",
       "    <tr>\n",
       "      <th>其他</th>\n",
       "      <td>4.502538e+10</td>\n",
       "    </tr>\n",
       "    <tr>\n",
       "      <th>房地产业</th>\n",
       "      <td>2.532575e+10</td>\n",
       "    </tr>\n",
       "    <tr>\n",
       "      <th>批发和零售业</th>\n",
       "      <td>1.022251e+10</td>\n",
       "    </tr>\n",
       "    <tr>\n",
       "      <th>制造业\\r\\n</th>\n",
       "      <td>6.247131e+09</td>\n",
       "    </tr>\n",
       "  </tbody>\n",
       "</table>\n",
       "</div>"
      ],
      "text/plain": [
       "            price_clean\n",
       "TradeName              \n",
       "无          1.704118e+11\n",
       "其他         4.502538e+10\n",
       "房地产业       2.532575e+10\n",
       "批发和零售业     1.022251e+10\n",
       "制造业\\r\\n    6.247131e+09"
      ]
     },
     "execution_count": 100,
     "metadata": {},
     "output_type": "execute_result"
    }
   ],
   "source": [
    "# Issuance By Sector\n",
    "\n",
    "npl_by_sector = pd.DataFrame(df[df['year'] == '2018'].groupby(['TradeName'])['price_clean'].sum())\n",
    "\n",
    "npl_by_sector.sort_values(by = 'price_clean', ascending = False).head()"
   ]
  }
 ],
 "metadata": {
  "kernelspec": {
   "display_name": "Python 2",
   "language": "python",
   "name": "python2"
  },
  "language_info": {
   "codemirror_mode": {
    "name": "ipython",
    "version": 2
   },
   "file_extension": ".py",
   "mimetype": "text/x-python",
   "name": "python",
   "nbconvert_exporter": "python",
   "pygments_lexer": "ipython2",
   "version": "2.7.15"
  }
 },
 "nbformat": 4,
 "nbformat_minor": 2
}
